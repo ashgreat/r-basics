{
  "nbformat": 4,
  "nbformat_minor": 0,
  "metadata": {
    "colab": {
      "name": "mortgage-data-exploration.ipynb",
      "provenance": [],
      "collapsed_sections": [],
      "mount_file_id": "10IAhhCMhcIiVkkSPpBVoMS3KCpyC-a_h",
      "authorship_tag": "ABX9TyOqhkutiRduThJwMuNQQq9+",
      "include_colab_link": true
    },
    "kernelspec": {
      "name": "python3",
      "display_name": "Python 3"
    },
    "language_info": {
      "name": "python"
    }
  },
  "cells": [
    {
      "cell_type": "markdown",
      "metadata": {
        "id": "view-in-github",
        "colab_type": "text"
      },
      "source": [
        "<a href=\"https://colab.research.google.com/github/ashgreat/r-basics/blob/main/mortgage_data_exploration.ipynb\" target=\"_parent\"><img src=\"https://colab.research.google.com/assets/colab-badge.svg\" alt=\"Open In Colab\"/></a>"
      ]
    },
    {
      "cell_type": "code",
      "metadata": {
        "id": "oYE7RI5HJXF_"
      },
      "source": [
        ""
      ],
      "execution_count": null,
      "outputs": []
    },
    {
      "cell_type": "markdown",
      "metadata": {
        "id": "9_ccaKqFKoyF"
      },
      "source": [
        "/content/drive/MyDrive/2020_bexar.csv"
      ]
    },
    {
      "cell_type": "code",
      "metadata": {
        "id": "g4SggylVWbWJ"
      },
      "source": [
        "import numpy as np\n"
      ],
      "execution_count": null,
      "outputs": []
    },
    {
      "cell_type": "code",
      "metadata": {
        "colab": {
          "base_uri": "https://localhost:8080/"
        },
        "id": "NODev0JUKrbZ",
        "outputId": "e3815617-1ee1-475a-8fd5-aad3641430c8"
      },
      "source": [
        "import pandas as pd\n",
        "loan_data = pd.read_csv(\"/content/drive/MyDrive/2020_bexar.csv\")"
      ],
      "execution_count": null,
      "outputs": [
        {
          "output_type": "stream",
          "name": "stderr",
          "text": [
            "/usr/local/lib/python3.7/dist-packages/IPython/core/interactiveshell.py:2718: DtypeWarning: Columns (22,23,24,26,27,28,29,30,31,32,33,38,43,44) have mixed types.Specify dtype option on import or set low_memory=False.\n",
            "  interactivity=interactivity, compiler=compiler, result=result)\n"
          ]
        }
      ]
    },
    {
      "cell_type": "code",
      "metadata": {
        "colab": {
          "base_uri": "https://localhost:8080/",
          "height": 342
        },
        "id": "cnPoRFFSLFD_",
        "outputId": "dd9b6d87-956c-4b27-eec5-f7073fbdecd7"
      },
      "source": [
        "loan_data.head()\n"
      ],
      "execution_count": null,
      "outputs": [
        {
          "output_type": "execute_result",
          "data": {
            "text/html": [
              "<div>\n",
              "<style scoped>\n",
              "    .dataframe tbody tr th:only-of-type {\n",
              "        vertical-align: middle;\n",
              "    }\n",
              "\n",
              "    .dataframe tbody tr th {\n",
              "        vertical-align: top;\n",
              "    }\n",
              "\n",
              "    .dataframe thead th {\n",
              "        text-align: right;\n",
              "    }\n",
              "</style>\n",
              "<table border=\"1\" class=\"dataframe\">\n",
              "  <thead>\n",
              "    <tr style=\"text-align: right;\">\n",
              "      <th></th>\n",
              "      <th>activity_year</th>\n",
              "      <th>lei</th>\n",
              "      <th>derived_msa_md</th>\n",
              "      <th>state_code</th>\n",
              "      <th>county_code</th>\n",
              "      <th>census_tract</th>\n",
              "      <th>conforming_loan_limit</th>\n",
              "      <th>derived_loan_product_type</th>\n",
              "      <th>derived_dwelling_category</th>\n",
              "      <th>derived_ethnicity</th>\n",
              "      <th>derived_race</th>\n",
              "      <th>derived_sex</th>\n",
              "      <th>action_taken</th>\n",
              "      <th>purchaser_type</th>\n",
              "      <th>preapproval</th>\n",
              "      <th>loan_type</th>\n",
              "      <th>loan_purpose</th>\n",
              "      <th>lien_status</th>\n",
              "      <th>reverse_mortgage</th>\n",
              "      <th>open_end_line_of_credit</th>\n",
              "      <th>business_or_commercial_purpose</th>\n",
              "      <th>loan_amount</th>\n",
              "      <th>combined_loan_to_value_ratio</th>\n",
              "      <th>interest_rate</th>\n",
              "      <th>rate_spread</th>\n",
              "      <th>hoepa_status</th>\n",
              "      <th>total_loan_costs</th>\n",
              "      <th>total_points_and_fees</th>\n",
              "      <th>origination_charges</th>\n",
              "      <th>discount_points</th>\n",
              "      <th>lender_credits</th>\n",
              "      <th>loan_term</th>\n",
              "      <th>prepayment_penalty_term</th>\n",
              "      <th>intro_rate_period</th>\n",
              "      <th>negative_amortization</th>\n",
              "      <th>interest_only_payment</th>\n",
              "      <th>balloon_payment</th>\n",
              "      <th>other_nonamortizing_features</th>\n",
              "      <th>property_value</th>\n",
              "      <th>construction_method</th>\n",
              "      <th>...</th>\n",
              "      <th>applicant_ethnicity_observed</th>\n",
              "      <th>co_applicant_ethnicity_observed</th>\n",
              "      <th>applicant_race_1</th>\n",
              "      <th>applicant_race_2</th>\n",
              "      <th>applicant_race_3</th>\n",
              "      <th>applicant_race_4</th>\n",
              "      <th>applicant_race_5</th>\n",
              "      <th>co_applicant_race_1</th>\n",
              "      <th>co_applicant_race_2</th>\n",
              "      <th>co_applicant_race_3</th>\n",
              "      <th>co_applicant_race_4</th>\n",
              "      <th>co_applicant_race_5</th>\n",
              "      <th>applicant_race_observed</th>\n",
              "      <th>co_applicant_race_observed</th>\n",
              "      <th>applicant_sex</th>\n",
              "      <th>co_applicant_sex</th>\n",
              "      <th>applicant_sex_observed</th>\n",
              "      <th>co_applicant_sex_observed</th>\n",
              "      <th>applicant_age</th>\n",
              "      <th>co_applicant_age</th>\n",
              "      <th>applicant_age_above_62</th>\n",
              "      <th>co_applicant_age_above_62</th>\n",
              "      <th>submission_of_application</th>\n",
              "      <th>initially_payable_to_institution</th>\n",
              "      <th>aus_1</th>\n",
              "      <th>aus_2</th>\n",
              "      <th>aus_3</th>\n",
              "      <th>aus_4</th>\n",
              "      <th>aus_5</th>\n",
              "      <th>denial_reason_1</th>\n",
              "      <th>denial_reason_2</th>\n",
              "      <th>denial_reason_3</th>\n",
              "      <th>denial_reason_4</th>\n",
              "      <th>tract_population</th>\n",
              "      <th>tract_minority_population_percent</th>\n",
              "      <th>ffiec_msa_md_median_family_income</th>\n",
              "      <th>tract_to_msa_income_percentage</th>\n",
              "      <th>tract_owner_occupied_units</th>\n",
              "      <th>tract_one_to_four_family_homes</th>\n",
              "      <th>tract_median_age_of_housing_units</th>\n",
              "    </tr>\n",
              "  </thead>\n",
              "  <tbody>\n",
              "    <tr>\n",
              "      <th>0</th>\n",
              "      <td>2020</td>\n",
              "      <td>254900HA4DQWAE0W3342</td>\n",
              "      <td>41700</td>\n",
              "      <td>TX</td>\n",
              "      <td>48029</td>\n",
              "      <td>4.802917e+10</td>\n",
              "      <td>C</td>\n",
              "      <td>Conventional:First Lien</td>\n",
              "      <td>Single Family (1-4 Units):Site-Built</td>\n",
              "      <td>Ethnicity Not Available</td>\n",
              "      <td>Race Not Available</td>\n",
              "      <td>Sex Not Available</td>\n",
              "      <td>6</td>\n",
              "      <td>0</td>\n",
              "      <td>2</td>\n",
              "      <td>1</td>\n",
              "      <td>1</td>\n",
              "      <td>1</td>\n",
              "      <td>2</td>\n",
              "      <td>2</td>\n",
              "      <td>2</td>\n",
              "      <td>335000</td>\n",
              "      <td>NaN</td>\n",
              "      <td>3.875</td>\n",
              "      <td>NaN</td>\n",
              "      <td>3</td>\n",
              "      <td>6266.76</td>\n",
              "      <td>NaN</td>\n",
              "      <td>2069.84</td>\n",
              "      <td>NaN</td>\n",
              "      <td>NaN</td>\n",
              "      <td>360</td>\n",
              "      <td>NaN</td>\n",
              "      <td>NaN</td>\n",
              "      <td>2</td>\n",
              "      <td>2</td>\n",
              "      <td>2</td>\n",
              "      <td>2</td>\n",
              "      <td>425000</td>\n",
              "      <td>1</td>\n",
              "      <td>...</td>\n",
              "      <td>3</td>\n",
              "      <td>4</td>\n",
              "      <td>7.0</td>\n",
              "      <td>NaN</td>\n",
              "      <td>NaN</td>\n",
              "      <td>NaN</td>\n",
              "      <td>NaN</td>\n",
              "      <td>8.0</td>\n",
              "      <td>NaN</td>\n",
              "      <td>NaN</td>\n",
              "      <td>NaN</td>\n",
              "      <td>NaN</td>\n",
              "      <td>3</td>\n",
              "      <td>4</td>\n",
              "      <td>4</td>\n",
              "      <td>5</td>\n",
              "      <td>3</td>\n",
              "      <td>4</td>\n",
              "      <td>45-54</td>\n",
              "      <td>9999</td>\n",
              "      <td>No</td>\n",
              "      <td>NaN</td>\n",
              "      <td>3</td>\n",
              "      <td>3</td>\n",
              "      <td>6</td>\n",
              "      <td>NaN</td>\n",
              "      <td>NaN</td>\n",
              "      <td>NaN</td>\n",
              "      <td>NaN</td>\n",
              "      <td>10</td>\n",
              "      <td>NaN</td>\n",
              "      <td>NaN</td>\n",
              "      <td>NaN</td>\n",
              "      <td>7751</td>\n",
              "      <td>56.84</td>\n",
              "      <td>72200</td>\n",
              "      <td>163</td>\n",
              "      <td>2331</td>\n",
              "      <td>2763</td>\n",
              "      <td>11</td>\n",
              "    </tr>\n",
              "    <tr>\n",
              "      <th>1</th>\n",
              "      <td>2020</td>\n",
              "      <td>254900HA4DQWAE0W3342</td>\n",
              "      <td>41700</td>\n",
              "      <td>TX</td>\n",
              "      <td>48029</td>\n",
              "      <td>4.802918e+10</td>\n",
              "      <td>C</td>\n",
              "      <td>Conventional:First Lien</td>\n",
              "      <td>Single Family (1-4 Units):Site-Built</td>\n",
              "      <td>Ethnicity Not Available</td>\n",
              "      <td>Race Not Available</td>\n",
              "      <td>Sex Not Available</td>\n",
              "      <td>6</td>\n",
              "      <td>0</td>\n",
              "      <td>2</td>\n",
              "      <td>1</td>\n",
              "      <td>31</td>\n",
              "      <td>1</td>\n",
              "      <td>2</td>\n",
              "      <td>2</td>\n",
              "      <td>2</td>\n",
              "      <td>325000</td>\n",
              "      <td>NaN</td>\n",
              "      <td>3.0</td>\n",
              "      <td>NaN</td>\n",
              "      <td>2</td>\n",
              "      <td>2662.7</td>\n",
              "      <td>NaN</td>\n",
              "      <td>0.0</td>\n",
              "      <td>NaN</td>\n",
              "      <td>NaN</td>\n",
              "      <td>360</td>\n",
              "      <td>NaN</td>\n",
              "      <td>NaN</td>\n",
              "      <td>2</td>\n",
              "      <td>2</td>\n",
              "      <td>2</td>\n",
              "      <td>2</td>\n",
              "      <td>425000</td>\n",
              "      <td>1</td>\n",
              "      <td>...</td>\n",
              "      <td>3</td>\n",
              "      <td>3</td>\n",
              "      <td>7.0</td>\n",
              "      <td>NaN</td>\n",
              "      <td>NaN</td>\n",
              "      <td>NaN</td>\n",
              "      <td>NaN</td>\n",
              "      <td>7.0</td>\n",
              "      <td>NaN</td>\n",
              "      <td>NaN</td>\n",
              "      <td>NaN</td>\n",
              "      <td>NaN</td>\n",
              "      <td>3</td>\n",
              "      <td>3</td>\n",
              "      <td>4</td>\n",
              "      <td>4</td>\n",
              "      <td>3</td>\n",
              "      <td>3</td>\n",
              "      <td>35-44</td>\n",
              "      <td>35-44</td>\n",
              "      <td>No</td>\n",
              "      <td>No</td>\n",
              "      <td>3</td>\n",
              "      <td>3</td>\n",
              "      <td>6</td>\n",
              "      <td>NaN</td>\n",
              "      <td>NaN</td>\n",
              "      <td>NaN</td>\n",
              "      <td>NaN</td>\n",
              "      <td>10</td>\n",
              "      <td>NaN</td>\n",
              "      <td>NaN</td>\n",
              "      <td>NaN</td>\n",
              "      <td>4610</td>\n",
              "      <td>42.69</td>\n",
              "      <td>72200</td>\n",
              "      <td>138</td>\n",
              "      <td>1558</td>\n",
              "      <td>1968</td>\n",
              "      <td>42</td>\n",
              "    </tr>\n",
              "    <tr>\n",
              "      <th>2</th>\n",
              "      <td>2020</td>\n",
              "      <td>254900HA4DQWAE0W3342</td>\n",
              "      <td>41700</td>\n",
              "      <td>TX</td>\n",
              "      <td>48029</td>\n",
              "      <td>4.802912e+10</td>\n",
              "      <td>C</td>\n",
              "      <td>VA:First Lien</td>\n",
              "      <td>Single Family (1-4 Units):Site-Built</td>\n",
              "      <td>Ethnicity Not Available</td>\n",
              "      <td>Race Not Available</td>\n",
              "      <td>Sex Not Available</td>\n",
              "      <td>6</td>\n",
              "      <td>0</td>\n",
              "      <td>2</td>\n",
              "      <td>3</td>\n",
              "      <td>31</td>\n",
              "      <td>1</td>\n",
              "      <td>2</td>\n",
              "      <td>2</td>\n",
              "      <td>2</td>\n",
              "      <td>215000</td>\n",
              "      <td>NaN</td>\n",
              "      <td>2.25</td>\n",
              "      <td>NaN</td>\n",
              "      <td>2</td>\n",
              "      <td>4033.44</td>\n",
              "      <td>NaN</td>\n",
              "      <td>1346.04</td>\n",
              "      <td>NaN</td>\n",
              "      <td>NaN</td>\n",
              "      <td>360</td>\n",
              "      <td>NaN</td>\n",
              "      <td>NaN</td>\n",
              "      <td>2</td>\n",
              "      <td>2</td>\n",
              "      <td>2</td>\n",
              "      <td>2</td>\n",
              "      <td>215000</td>\n",
              "      <td>1</td>\n",
              "      <td>...</td>\n",
              "      <td>3</td>\n",
              "      <td>4</td>\n",
              "      <td>7.0</td>\n",
              "      <td>NaN</td>\n",
              "      <td>NaN</td>\n",
              "      <td>NaN</td>\n",
              "      <td>NaN</td>\n",
              "      <td>8.0</td>\n",
              "      <td>NaN</td>\n",
              "      <td>NaN</td>\n",
              "      <td>NaN</td>\n",
              "      <td>NaN</td>\n",
              "      <td>3</td>\n",
              "      <td>4</td>\n",
              "      <td>4</td>\n",
              "      <td>5</td>\n",
              "      <td>3</td>\n",
              "      <td>4</td>\n",
              "      <td>35-44</td>\n",
              "      <td>9999</td>\n",
              "      <td>No</td>\n",
              "      <td>NaN</td>\n",
              "      <td>3</td>\n",
              "      <td>3</td>\n",
              "      <td>6</td>\n",
              "      <td>NaN</td>\n",
              "      <td>NaN</td>\n",
              "      <td>NaN</td>\n",
              "      <td>NaN</td>\n",
              "      <td>10</td>\n",
              "      <td>NaN</td>\n",
              "      <td>NaN</td>\n",
              "      <td>NaN</td>\n",
              "      <td>4664</td>\n",
              "      <td>63.14</td>\n",
              "      <td>72200</td>\n",
              "      <td>109</td>\n",
              "      <td>1020</td>\n",
              "      <td>1583</td>\n",
              "      <td>39</td>\n",
              "    </tr>\n",
              "    <tr>\n",
              "      <th>3</th>\n",
              "      <td>2020</td>\n",
              "      <td>254900HA4DQWAE0W3342</td>\n",
              "      <td>41700</td>\n",
              "      <td>TX</td>\n",
              "      <td>48029</td>\n",
              "      <td>4.802919e+10</td>\n",
              "      <td>C</td>\n",
              "      <td>Conventional:First Lien</td>\n",
              "      <td>Single Family (1-4 Units):Site-Built</td>\n",
              "      <td>Ethnicity Not Available</td>\n",
              "      <td>Race Not Available</td>\n",
              "      <td>Sex Not Available</td>\n",
              "      <td>6</td>\n",
              "      <td>0</td>\n",
              "      <td>2</td>\n",
              "      <td>1</td>\n",
              "      <td>31</td>\n",
              "      <td>1</td>\n",
              "      <td>2</td>\n",
              "      <td>2</td>\n",
              "      <td>2</td>\n",
              "      <td>315000</td>\n",
              "      <td>NaN</td>\n",
              "      <td>3.0</td>\n",
              "      <td>NaN</td>\n",
              "      <td>2</td>\n",
              "      <td>1868.5</td>\n",
              "      <td>NaN</td>\n",
              "      <td>0.0</td>\n",
              "      <td>NaN</td>\n",
              "      <td>NaN</td>\n",
              "      <td>360</td>\n",
              "      <td>NaN</td>\n",
              "      <td>NaN</td>\n",
              "      <td>2</td>\n",
              "      <td>2</td>\n",
              "      <td>2</td>\n",
              "      <td>2</td>\n",
              "      <td>475000</td>\n",
              "      <td>1</td>\n",
              "      <td>...</td>\n",
              "      <td>3</td>\n",
              "      <td>4</td>\n",
              "      <td>7.0</td>\n",
              "      <td>NaN</td>\n",
              "      <td>NaN</td>\n",
              "      <td>NaN</td>\n",
              "      <td>NaN</td>\n",
              "      <td>8.0</td>\n",
              "      <td>NaN</td>\n",
              "      <td>NaN</td>\n",
              "      <td>NaN</td>\n",
              "      <td>NaN</td>\n",
              "      <td>3</td>\n",
              "      <td>4</td>\n",
              "      <td>4</td>\n",
              "      <td>5</td>\n",
              "      <td>3</td>\n",
              "      <td>4</td>\n",
              "      <td>35-44</td>\n",
              "      <td>9999</td>\n",
              "      <td>No</td>\n",
              "      <td>NaN</td>\n",
              "      <td>3</td>\n",
              "      <td>3</td>\n",
              "      <td>6</td>\n",
              "      <td>NaN</td>\n",
              "      <td>NaN</td>\n",
              "      <td>NaN</td>\n",
              "      <td>NaN</td>\n",
              "      <td>10</td>\n",
              "      <td>NaN</td>\n",
              "      <td>NaN</td>\n",
              "      <td>NaN</td>\n",
              "      <td>11921</td>\n",
              "      <td>45.05</td>\n",
              "      <td>72200</td>\n",
              "      <td>166</td>\n",
              "      <td>2193</td>\n",
              "      <td>2564</td>\n",
              "      <td>12</td>\n",
              "    </tr>\n",
              "    <tr>\n",
              "      <th>4</th>\n",
              "      <td>2020</td>\n",
              "      <td>254900HA4DQWAE0W3342</td>\n",
              "      <td>41700</td>\n",
              "      <td>TX</td>\n",
              "      <td>48029</td>\n",
              "      <td>4.802916e+10</td>\n",
              "      <td>C</td>\n",
              "      <td>FHA:First Lien</td>\n",
              "      <td>Single Family (1-4 Units):Site-Built</td>\n",
              "      <td>Ethnicity Not Available</td>\n",
              "      <td>Race Not Available</td>\n",
              "      <td>Sex Not Available</td>\n",
              "      <td>6</td>\n",
              "      <td>0</td>\n",
              "      <td>2</td>\n",
              "      <td>2</td>\n",
              "      <td>1</td>\n",
              "      <td>1</td>\n",
              "      <td>2</td>\n",
              "      <td>2</td>\n",
              "      <td>2</td>\n",
              "      <td>185000</td>\n",
              "      <td>NaN</td>\n",
              "      <td>4.0</td>\n",
              "      <td>NaN</td>\n",
              "      <td>3</td>\n",
              "      <td>7610.72</td>\n",
              "      <td>NaN</td>\n",
              "      <td>1595.0</td>\n",
              "      <td>NaN</td>\n",
              "      <td>NaN</td>\n",
              "      <td>360</td>\n",
              "      <td>NaN</td>\n",
              "      <td>NaN</td>\n",
              "      <td>2</td>\n",
              "      <td>2</td>\n",
              "      <td>2</td>\n",
              "      <td>2</td>\n",
              "      <td>185000</td>\n",
              "      <td>1</td>\n",
              "      <td>...</td>\n",
              "      <td>3</td>\n",
              "      <td>3</td>\n",
              "      <td>7.0</td>\n",
              "      <td>NaN</td>\n",
              "      <td>NaN</td>\n",
              "      <td>NaN</td>\n",
              "      <td>NaN</td>\n",
              "      <td>7.0</td>\n",
              "      <td>NaN</td>\n",
              "      <td>NaN</td>\n",
              "      <td>NaN</td>\n",
              "      <td>NaN</td>\n",
              "      <td>3</td>\n",
              "      <td>3</td>\n",
              "      <td>4</td>\n",
              "      <td>4</td>\n",
              "      <td>3</td>\n",
              "      <td>3</td>\n",
              "      <td>35-44</td>\n",
              "      <td>35-44</td>\n",
              "      <td>No</td>\n",
              "      <td>No</td>\n",
              "      <td>3</td>\n",
              "      <td>3</td>\n",
              "      <td>6</td>\n",
              "      <td>NaN</td>\n",
              "      <td>NaN</td>\n",
              "      <td>NaN</td>\n",
              "      <td>NaN</td>\n",
              "      <td>10</td>\n",
              "      <td>NaN</td>\n",
              "      <td>NaN</td>\n",
              "      <td>NaN</td>\n",
              "      <td>7623</td>\n",
              "      <td>85.54</td>\n",
              "      <td>72200</td>\n",
              "      <td>70</td>\n",
              "      <td>1187</td>\n",
              "      <td>2012</td>\n",
              "      <td>14</td>\n",
              "    </tr>\n",
              "  </tbody>\n",
              "</table>\n",
              "<p>5 rows × 99 columns</p>\n",
              "</div>"
            ],
            "text/plain": [
              "   activity_year  ... tract_median_age_of_housing_units\n",
              "0           2020  ...                                11\n",
              "1           2020  ...                                42\n",
              "2           2020  ...                                39\n",
              "3           2020  ...                                12\n",
              "4           2020  ...                                14\n",
              "\n",
              "[5 rows x 99 columns]"
            ]
          },
          "metadata": {},
          "execution_count": 56
        }
      ]
    },
    {
      "cell_type": "markdown",
      "metadata": {
        "id": "vfVJiT4sWhza"
      },
      "source": [
        "Get the first five observations for `action_taken`\n"
      ]
    },
    {
      "cell_type": "code",
      "metadata": {
        "colab": {
          "base_uri": "https://localhost:8080/"
        },
        "id": "RegXGISTNLzT",
        "outputId": "862db20d-d61c-4b86-c1ba-67c853e7b1d1"
      },
      "source": [
        "loan_data['action_taken'].head()"
      ],
      "execution_count": null,
      "outputs": [
        {
          "output_type": "execute_result",
          "data": {
            "text/plain": [
              "0    6\n",
              "1    6\n",
              "2    6\n",
              "3    6\n",
              "4    6\n",
              "Name: action_taken, dtype: int64"
            ]
          },
          "metadata": {},
          "execution_count": 57
        }
      ]
    },
    {
      "cell_type": "markdown",
      "metadata": {
        "id": "dc8iuiDOWMvv"
      },
      "source": [
        "Get the count of `action_taken`\n"
      ]
    },
    {
      "cell_type": "code",
      "metadata": {
        "id": "W-4QQa0paZyS"
      },
      "source": [
        "loan_data.sort_values(by = ['preapproval', 'loan_amount'])"
      ],
      "execution_count": null,
      "outputs": []
    },
    {
      "cell_type": "code",
      "metadata": {
        "colab": {
          "base_uri": "https://localhost:8080/"
        },
        "id": "eXMxN7OZWWeg",
        "outputId": "61169392-5cdf-4138-88d5-7853c115dcd9"
      },
      "source": [
        "loan_data['action_taken'].value_counts()"
      ],
      "execution_count": null,
      "outputs": [
        {
          "output_type": "execute_result",
          "data": {
            "text/plain": [
              "1    71316\n",
              "6    21456\n",
              "4    21099\n",
              "3    17580\n",
              "5     9037\n",
              "2     4737\n",
              "8       35\n",
              "7       13\n",
              "Name: action_taken, dtype: int64"
            ]
          },
          "metadata": {},
          "execution_count": 61
        }
      ]
    },
    {
      "cell_type": "markdown",
      "metadata": {
        "id": "0_UAWbqaWq5C"
      },
      "source": [
        "Create a new binary variable `action_taken_target` such that when `action_taken` is 1 or 2, the new variable is 1. Otherwise the new variable is 0. "
      ]
    },
    {
      "cell_type": "code",
      "metadata": {
        "id": "O6b5iOlbW5js"
      },
      "source": [
        "loan_data['action_taken_target'] = np.where(loan_data['action_taken'] <= 2, 1, 0)"
      ],
      "execution_count": null,
      "outputs": []
    },
    {
      "cell_type": "markdown",
      "metadata": {
        "id": "3U_J_MjpXL9g"
      },
      "source": [
        "Print the first "
      ]
    },
    {
      "cell_type": "code",
      "metadata": {
        "colab": {
          "base_uri": "https://localhost:8080/",
          "height": 206
        },
        "id": "pasYbTWHXR43",
        "outputId": "b05e384f-2c91-4a64-d5fb-6125f2ea5067"
      },
      "source": [
        "loan_data[['action_taken', 'action_taken_target']].head()"
      ],
      "execution_count": null,
      "outputs": [
        {
          "output_type": "execute_result",
          "data": {
            "text/html": [
              "<div>\n",
              "<style scoped>\n",
              "    .dataframe tbody tr th:only-of-type {\n",
              "        vertical-align: middle;\n",
              "    }\n",
              "\n",
              "    .dataframe tbody tr th {\n",
              "        vertical-align: top;\n",
              "    }\n",
              "\n",
              "    .dataframe thead th {\n",
              "        text-align: right;\n",
              "    }\n",
              "</style>\n",
              "<table border=\"1\" class=\"dataframe\">\n",
              "  <thead>\n",
              "    <tr style=\"text-align: right;\">\n",
              "      <th></th>\n",
              "      <th>action_taken</th>\n",
              "      <th>action_taken_target</th>\n",
              "    </tr>\n",
              "  </thead>\n",
              "  <tbody>\n",
              "    <tr>\n",
              "      <th>0</th>\n",
              "      <td>6</td>\n",
              "      <td>0</td>\n",
              "    </tr>\n",
              "    <tr>\n",
              "      <th>1</th>\n",
              "      <td>6</td>\n",
              "      <td>0</td>\n",
              "    </tr>\n",
              "    <tr>\n",
              "      <th>2</th>\n",
              "      <td>6</td>\n",
              "      <td>0</td>\n",
              "    </tr>\n",
              "    <tr>\n",
              "      <th>3</th>\n",
              "      <td>6</td>\n",
              "      <td>0</td>\n",
              "    </tr>\n",
              "    <tr>\n",
              "      <th>4</th>\n",
              "      <td>6</td>\n",
              "      <td>0</td>\n",
              "    </tr>\n",
              "  </tbody>\n",
              "</table>\n",
              "</div>"
            ],
            "text/plain": [
              "   action_taken  action_taken_target\n",
              "0             6                    0\n",
              "1             6                    0\n",
              "2             6                    0\n",
              "3             6                    0\n",
              "4             6                    0"
            ]
          },
          "metadata": {},
          "execution_count": 63
        }
      ]
    },
    {
      "cell_type": "markdown",
      "metadata": {
        "id": "DDI81xj4Xx28"
      },
      "source": [
        "Ascertain that we get 1s when `action_taken` is 1 or 2"
      ]
    },
    {
      "cell_type": "code",
      "metadata": {
        "colab": {
          "base_uri": "https://localhost:8080/",
          "height": 424
        },
        "id": "G63T_Y2RXy5t",
        "outputId": "29729edf-954f-47f2-879e-b3842e9ff836"
      },
      "source": [
        "loan_data[['action_taken', 'action_taken_target']][loan_data['action_taken'] <= 2]"
      ],
      "execution_count": null,
      "outputs": [
        {
          "output_type": "execute_result",
          "data": {
            "text/html": [
              "<div>\n",
              "<style scoped>\n",
              "    .dataframe tbody tr th:only-of-type {\n",
              "        vertical-align: middle;\n",
              "    }\n",
              "\n",
              "    .dataframe tbody tr th {\n",
              "        vertical-align: top;\n",
              "    }\n",
              "\n",
              "    .dataframe thead th {\n",
              "        text-align: right;\n",
              "    }\n",
              "</style>\n",
              "<table border=\"1\" class=\"dataframe\">\n",
              "  <thead>\n",
              "    <tr style=\"text-align: right;\">\n",
              "      <th></th>\n",
              "      <th>action_taken</th>\n",
              "      <th>action_taken_target</th>\n",
              "    </tr>\n",
              "  </thead>\n",
              "  <tbody>\n",
              "    <tr>\n",
              "      <th>301</th>\n",
              "      <td>1</td>\n",
              "      <td>1</td>\n",
              "    </tr>\n",
              "    <tr>\n",
              "      <th>304</th>\n",
              "      <td>1</td>\n",
              "      <td>1</td>\n",
              "    </tr>\n",
              "    <tr>\n",
              "      <th>305</th>\n",
              "      <td>1</td>\n",
              "      <td>1</td>\n",
              "    </tr>\n",
              "    <tr>\n",
              "      <th>306</th>\n",
              "      <td>2</td>\n",
              "      <td>1</td>\n",
              "    </tr>\n",
              "    <tr>\n",
              "      <th>308</th>\n",
              "      <td>1</td>\n",
              "      <td>1</td>\n",
              "    </tr>\n",
              "    <tr>\n",
              "      <th>...</th>\n",
              "      <td>...</td>\n",
              "      <td>...</td>\n",
              "    </tr>\n",
              "    <tr>\n",
              "      <th>144873</th>\n",
              "      <td>1</td>\n",
              "      <td>1</td>\n",
              "    </tr>\n",
              "    <tr>\n",
              "      <th>144874</th>\n",
              "      <td>1</td>\n",
              "      <td>1</td>\n",
              "    </tr>\n",
              "    <tr>\n",
              "      <th>144876</th>\n",
              "      <td>1</td>\n",
              "      <td>1</td>\n",
              "    </tr>\n",
              "    <tr>\n",
              "      <th>144877</th>\n",
              "      <td>1</td>\n",
              "      <td>1</td>\n",
              "    </tr>\n",
              "    <tr>\n",
              "      <th>144892</th>\n",
              "      <td>1</td>\n",
              "      <td>1</td>\n",
              "    </tr>\n",
              "  </tbody>\n",
              "</table>\n",
              "<p>76053 rows × 2 columns</p>\n",
              "</div>"
            ],
            "text/plain": [
              "        action_taken  action_taken_target\n",
              "301                1                    1\n",
              "304                1                    1\n",
              "305                1                    1\n",
              "306                2                    1\n",
              "308                1                    1\n",
              "...              ...                  ...\n",
              "144873             1                    1\n",
              "144874             1                    1\n",
              "144876             1                    1\n",
              "144877             1                    1\n",
              "144892             1                    1\n",
              "\n",
              "[76053 rows x 2 columns]"
            ]
          },
          "metadata": {},
          "execution_count": 65
        }
      ]
    },
    {
      "cell_type": "code",
      "metadata": {
        "colab": {
          "base_uri": "https://localhost:8080/",
          "height": 457
        },
        "id": "qbDQLaB1rb-d",
        "outputId": "de9efb39-1b06-4c8a-c0b0-3bafcbda0cc9"
      },
      "source": [
        "loan_data[['action_taken', 'action_taken_target']][loan_data['action_taken'] == 7]"
      ],
      "execution_count": null,
      "outputs": [
        {
          "output_type": "execute_result",
          "data": {
            "text/html": [
              "<div>\n",
              "<style scoped>\n",
              "    .dataframe tbody tr th:only-of-type {\n",
              "        vertical-align: middle;\n",
              "    }\n",
              "\n",
              "    .dataframe tbody tr th {\n",
              "        vertical-align: top;\n",
              "    }\n",
              "\n",
              "    .dataframe thead th {\n",
              "        text-align: right;\n",
              "    }\n",
              "</style>\n",
              "<table border=\"1\" class=\"dataframe\">\n",
              "  <thead>\n",
              "    <tr style=\"text-align: right;\">\n",
              "      <th></th>\n",
              "      <th>action_taken</th>\n",
              "      <th>action_taken_target</th>\n",
              "    </tr>\n",
              "  </thead>\n",
              "  <tbody>\n",
              "    <tr>\n",
              "      <th>551</th>\n",
              "      <td>7</td>\n",
              "      <td>0</td>\n",
              "    </tr>\n",
              "    <tr>\n",
              "      <th>16089</th>\n",
              "      <td>7</td>\n",
              "      <td>0</td>\n",
              "    </tr>\n",
              "    <tr>\n",
              "      <th>16377</th>\n",
              "      <td>7</td>\n",
              "      <td>0</td>\n",
              "    </tr>\n",
              "    <tr>\n",
              "      <th>16379</th>\n",
              "      <td>7</td>\n",
              "      <td>0</td>\n",
              "    </tr>\n",
              "    <tr>\n",
              "      <th>22081</th>\n",
              "      <td>7</td>\n",
              "      <td>0</td>\n",
              "    </tr>\n",
              "    <tr>\n",
              "      <th>38052</th>\n",
              "      <td>7</td>\n",
              "      <td>0</td>\n",
              "    </tr>\n",
              "    <tr>\n",
              "      <th>38055</th>\n",
              "      <td>7</td>\n",
              "      <td>0</td>\n",
              "    </tr>\n",
              "    <tr>\n",
              "      <th>38097</th>\n",
              "      <td>7</td>\n",
              "      <td>0</td>\n",
              "    </tr>\n",
              "    <tr>\n",
              "      <th>99864</th>\n",
              "      <td>7</td>\n",
              "      <td>0</td>\n",
              "    </tr>\n",
              "    <tr>\n",
              "      <th>100061</th>\n",
              "      <td>7</td>\n",
              "      <td>0</td>\n",
              "    </tr>\n",
              "    <tr>\n",
              "      <th>100087</th>\n",
              "      <td>7</td>\n",
              "      <td>0</td>\n",
              "    </tr>\n",
              "    <tr>\n",
              "      <th>100868</th>\n",
              "      <td>7</td>\n",
              "      <td>0</td>\n",
              "    </tr>\n",
              "    <tr>\n",
              "      <th>135352</th>\n",
              "      <td>7</td>\n",
              "      <td>0</td>\n",
              "    </tr>\n",
              "  </tbody>\n",
              "</table>\n",
              "</div>"
            ],
            "text/plain": [
              "        action_taken  action_taken_target\n",
              "551                7                    0\n",
              "16089              7                    0\n",
              "16377              7                    0\n",
              "16379              7                    0\n",
              "22081              7                    0\n",
              "38052              7                    0\n",
              "38055              7                    0\n",
              "38097              7                    0\n",
              "99864              7                    0\n",
              "100061             7                    0\n",
              "100087             7                    0\n",
              "100868             7                    0\n",
              "135352             7                    0"
            ]
          },
          "metadata": {},
          "execution_count": 67
        }
      ]
    },
    {
      "cell_type": "markdown",
      "metadata": {
        "id": "W2IiMk01Z1rf"
      },
      "source": [
        "Get the mean of `total_loan_costs`"
      ]
    },
    {
      "cell_type": "code",
      "metadata": {
        "colab": {
          "base_uri": "https://localhost:8080/"
        },
        "id": "gcDv8T3yanGZ",
        "outputId": "9bfd13b0-0b62-4a1f-e61e-e7b36592773f"
      },
      "source": [
        "type(loan_data['total_loan_costs'])"
      ],
      "execution_count": null,
      "outputs": [
        {
          "output_type": "execute_result",
          "data": {
            "text/plain": [
              "pandas.core.series.Series"
            ]
          },
          "metadata": {},
          "execution_count": 25
        }
      ]
    },
    {
      "cell_type": "code",
      "metadata": {
        "colab": {
          "base_uri": "https://localhost:8080/"
        },
        "id": "ieVN2jm5svvu",
        "outputId": "a29fcbde-f6eb-4e0d-c159-0bb0f63fde47"
      },
      "source": [
        "loan_data.dtypes"
      ],
      "execution_count": null,
      "outputs": [
        {
          "output_type": "execute_result",
          "data": {
            "text/plain": [
              "activity_year                         int64\n",
              "lei                                  object\n",
              "derived_msa_md                        int64\n",
              "state_code                           object\n",
              "county_code                           int64\n",
              "                                      ...  \n",
              "tract_to_msa_income_percentage        int64\n",
              "tract_owner_occupied_units            int64\n",
              "tract_one_to_four_family_homes        int64\n",
              "tract_median_age_of_housing_units     int64\n",
              "action_taken_target                   int64\n",
              "Length: 100, dtype: object"
            ]
          },
          "metadata": {},
          "execution_count": 68
        }
      ]
    },
    {
      "cell_type": "code",
      "metadata": {
        "colab": {
          "base_uri": "https://localhost:8080/"
        },
        "id": "eucq36XVas5d",
        "outputId": "3778c08b-097e-4dbd-f698-8a94a91f5f7d"
      },
      "source": [
        "loan_data['total_loan_costs'].dtypes"
      ],
      "execution_count": null,
      "outputs": [
        {
          "output_type": "execute_result",
          "data": {
            "text/plain": [
              "dtype('O')"
            ]
          },
          "metadata": {},
          "execution_count": 27
        }
      ]
    },
    {
      "cell_type": "code",
      "metadata": {
        "colab": {
          "base_uri": "https://localhost:8080/"
        },
        "id": "n_VgItwHbVuB",
        "outputId": "5bc7ac33-2816-4972-f10f-3297ffa6998a"
      },
      "source": [
        "loan_data['total_loan_costs']"
      ],
      "execution_count": null,
      "outputs": [
        {
          "output_type": "execute_result",
          "data": {
            "text/plain": [
              "0         6266.76\n",
              "1          2662.7\n",
              "2         4033.44\n",
              "3          1868.5\n",
              "4         7610.72\n",
              "           ...   \n",
              "145268    2207.13\n",
              "145269    2048.88\n",
              "145270    1409.58\n",
              "145271    6018.37\n",
              "145272    4976.12\n",
              "Name: total_loan_costs, Length: 145273, dtype: object"
            ]
          },
          "metadata": {},
          "execution_count": 28
        }
      ]
    },
    {
      "cell_type": "code",
      "metadata": {
        "colab": {
          "base_uri": "https://localhost:8080/",
          "height": 323
        },
        "id": "s_myhOGobbJp",
        "outputId": "53117ef3-54ea-4f6a-cff3-e53eb9d37619"
      },
      "source": [
        "loan_data['total_loan_costs'].mean()"
      ],
      "execution_count": null,
      "outputs": [
        {
          "output_type": "error",
          "ename": "TypeError",
          "evalue": "ignored",
          "traceback": [
            "\u001b[0;31m---------------------------------------------------------------------------\u001b[0m",
            "\u001b[0;31mTypeError\u001b[0m                                 Traceback (most recent call last)",
            "\u001b[0;32m<ipython-input-29-53aa051f7a6a>\u001b[0m in \u001b[0;36m<module>\u001b[0;34m()\u001b[0m\n\u001b[0;32m----> 1\u001b[0;31m \u001b[0mloan_data\u001b[0m\u001b[0;34m[\u001b[0m\u001b[0;34m'total_loan_costs'\u001b[0m\u001b[0;34m]\u001b[0m\u001b[0;34m.\u001b[0m\u001b[0mmean\u001b[0m\u001b[0;34m(\u001b[0m\u001b[0;34m)\u001b[0m\u001b[0;34m\u001b[0m\u001b[0;34m\u001b[0m\u001b[0m\n\u001b[0m",
            "\u001b[0;32m/usr/local/lib/python3.7/dist-packages/pandas/core/generic.py\u001b[0m in \u001b[0;36mstat_func\u001b[0;34m(self, axis, skipna, level, numeric_only, **kwargs)\u001b[0m\n\u001b[1;32m  11473\u001b[0m             \u001b[0;32mreturn\u001b[0m \u001b[0mself\u001b[0m\u001b[0;34m.\u001b[0m\u001b[0m_agg_by_level\u001b[0m\u001b[0;34m(\u001b[0m\u001b[0mname\u001b[0m\u001b[0;34m,\u001b[0m \u001b[0maxis\u001b[0m\u001b[0;34m=\u001b[0m\u001b[0maxis\u001b[0m\u001b[0;34m,\u001b[0m \u001b[0mlevel\u001b[0m\u001b[0;34m=\u001b[0m\u001b[0mlevel\u001b[0m\u001b[0;34m,\u001b[0m \u001b[0mskipna\u001b[0m\u001b[0;34m=\u001b[0m\u001b[0mskipna\u001b[0m\u001b[0;34m)\u001b[0m\u001b[0;34m\u001b[0m\u001b[0;34m\u001b[0m\u001b[0m\n\u001b[1;32m  11474\u001b[0m         return self._reduce(\n\u001b[0;32m> 11475\u001b[0;31m             \u001b[0mfunc\u001b[0m\u001b[0;34m,\u001b[0m \u001b[0mname\u001b[0m\u001b[0;34m=\u001b[0m\u001b[0mname\u001b[0m\u001b[0;34m,\u001b[0m \u001b[0maxis\u001b[0m\u001b[0;34m=\u001b[0m\u001b[0maxis\u001b[0m\u001b[0;34m,\u001b[0m \u001b[0mskipna\u001b[0m\u001b[0;34m=\u001b[0m\u001b[0mskipna\u001b[0m\u001b[0;34m,\u001b[0m \u001b[0mnumeric_only\u001b[0m\u001b[0;34m=\u001b[0m\u001b[0mnumeric_only\u001b[0m\u001b[0;34m\u001b[0m\u001b[0;34m\u001b[0m\u001b[0m\n\u001b[0m\u001b[1;32m  11476\u001b[0m         )\n\u001b[1;32m  11477\u001b[0m \u001b[0;34m\u001b[0m\u001b[0m\n",
            "\u001b[0;32m/usr/local/lib/python3.7/dist-packages/pandas/core/series.py\u001b[0m in \u001b[0;36m_reduce\u001b[0;34m(self, op, name, axis, skipna, numeric_only, filter_type, **kwds)\u001b[0m\n\u001b[1;32m   4247\u001b[0m                 )\n\u001b[1;32m   4248\u001b[0m             \u001b[0;32mwith\u001b[0m \u001b[0mnp\u001b[0m\u001b[0;34m.\u001b[0m\u001b[0merrstate\u001b[0m\u001b[0;34m(\u001b[0m\u001b[0mall\u001b[0m\u001b[0;34m=\u001b[0m\u001b[0;34m\"ignore\"\u001b[0m\u001b[0;34m)\u001b[0m\u001b[0;34m:\u001b[0m\u001b[0;34m\u001b[0m\u001b[0;34m\u001b[0m\u001b[0m\n\u001b[0;32m-> 4249\u001b[0;31m                 \u001b[0;32mreturn\u001b[0m \u001b[0mop\u001b[0m\u001b[0;34m(\u001b[0m\u001b[0mdelegate\u001b[0m\u001b[0;34m,\u001b[0m \u001b[0mskipna\u001b[0m\u001b[0;34m=\u001b[0m\u001b[0mskipna\u001b[0m\u001b[0;34m,\u001b[0m \u001b[0;34m**\u001b[0m\u001b[0mkwds\u001b[0m\u001b[0;34m)\u001b[0m\u001b[0;34m\u001b[0m\u001b[0;34m\u001b[0m\u001b[0m\n\u001b[0m\u001b[1;32m   4250\u001b[0m \u001b[0;34m\u001b[0m\u001b[0m\n\u001b[1;32m   4251\u001b[0m     \u001b[0;32mdef\u001b[0m \u001b[0m_reindex_indexer\u001b[0m\u001b[0;34m(\u001b[0m\u001b[0mself\u001b[0m\u001b[0;34m,\u001b[0m \u001b[0mnew_index\u001b[0m\u001b[0;34m,\u001b[0m \u001b[0mindexer\u001b[0m\u001b[0;34m,\u001b[0m \u001b[0mcopy\u001b[0m\u001b[0;34m)\u001b[0m\u001b[0;34m:\u001b[0m\u001b[0;34m\u001b[0m\u001b[0;34m\u001b[0m\u001b[0m\n",
            "\u001b[0;32m/usr/local/lib/python3.7/dist-packages/pandas/core/nanops.py\u001b[0m in \u001b[0;36m_f\u001b[0;34m(*args, **kwargs)\u001b[0m\n\u001b[1;32m     69\u001b[0m             \u001b[0;32mtry\u001b[0m\u001b[0;34m:\u001b[0m\u001b[0;34m\u001b[0m\u001b[0;34m\u001b[0m\u001b[0m\n\u001b[1;32m     70\u001b[0m                 \u001b[0;32mwith\u001b[0m \u001b[0mnp\u001b[0m\u001b[0;34m.\u001b[0m\u001b[0merrstate\u001b[0m\u001b[0;34m(\u001b[0m\u001b[0minvalid\u001b[0m\u001b[0;34m=\u001b[0m\u001b[0;34m\"ignore\"\u001b[0m\u001b[0;34m)\u001b[0m\u001b[0;34m:\u001b[0m\u001b[0;34m\u001b[0m\u001b[0;34m\u001b[0m\u001b[0m\n\u001b[0;32m---> 71\u001b[0;31m                     \u001b[0;32mreturn\u001b[0m \u001b[0mf\u001b[0m\u001b[0;34m(\u001b[0m\u001b[0;34m*\u001b[0m\u001b[0margs\u001b[0m\u001b[0;34m,\u001b[0m \u001b[0;34m**\u001b[0m\u001b[0mkwargs\u001b[0m\u001b[0;34m)\u001b[0m\u001b[0;34m\u001b[0m\u001b[0;34m\u001b[0m\u001b[0m\n\u001b[0m\u001b[1;32m     72\u001b[0m             \u001b[0;32mexcept\u001b[0m \u001b[0mValueError\u001b[0m \u001b[0;32mas\u001b[0m \u001b[0me\u001b[0m\u001b[0;34m:\u001b[0m\u001b[0;34m\u001b[0m\u001b[0;34m\u001b[0m\u001b[0m\n\u001b[1;32m     73\u001b[0m                 \u001b[0;31m# we want to transform an object array\u001b[0m\u001b[0;34m\u001b[0m\u001b[0;34m\u001b[0m\u001b[0;34m\u001b[0m\u001b[0m\n",
            "\u001b[0;32m/usr/local/lib/python3.7/dist-packages/pandas/core/nanops.py\u001b[0m in \u001b[0;36mf\u001b[0;34m(values, axis, skipna, **kwds)\u001b[0m\n\u001b[1;32m    127\u001b[0m                     \u001b[0mresult\u001b[0m \u001b[0;34m=\u001b[0m \u001b[0malt\u001b[0m\u001b[0;34m(\u001b[0m\u001b[0mvalues\u001b[0m\u001b[0;34m,\u001b[0m \u001b[0maxis\u001b[0m\u001b[0;34m=\u001b[0m\u001b[0maxis\u001b[0m\u001b[0;34m,\u001b[0m \u001b[0mskipna\u001b[0m\u001b[0;34m=\u001b[0m\u001b[0mskipna\u001b[0m\u001b[0;34m,\u001b[0m \u001b[0;34m**\u001b[0m\u001b[0mkwds\u001b[0m\u001b[0;34m)\u001b[0m\u001b[0;34m\u001b[0m\u001b[0;34m\u001b[0m\u001b[0m\n\u001b[1;32m    128\u001b[0m             \u001b[0;32melse\u001b[0m\u001b[0;34m:\u001b[0m\u001b[0;34m\u001b[0m\u001b[0;34m\u001b[0m\u001b[0m\n\u001b[0;32m--> 129\u001b[0;31m                 \u001b[0mresult\u001b[0m \u001b[0;34m=\u001b[0m \u001b[0malt\u001b[0m\u001b[0;34m(\u001b[0m\u001b[0mvalues\u001b[0m\u001b[0;34m,\u001b[0m \u001b[0maxis\u001b[0m\u001b[0;34m=\u001b[0m\u001b[0maxis\u001b[0m\u001b[0;34m,\u001b[0m \u001b[0mskipna\u001b[0m\u001b[0;34m=\u001b[0m\u001b[0mskipna\u001b[0m\u001b[0;34m,\u001b[0m \u001b[0;34m**\u001b[0m\u001b[0mkwds\u001b[0m\u001b[0;34m)\u001b[0m\u001b[0;34m\u001b[0m\u001b[0;34m\u001b[0m\u001b[0m\n\u001b[0m\u001b[1;32m    130\u001b[0m \u001b[0;34m\u001b[0m\u001b[0m\n\u001b[1;32m    131\u001b[0m             \u001b[0;32mreturn\u001b[0m \u001b[0mresult\u001b[0m\u001b[0;34m\u001b[0m\u001b[0;34m\u001b[0m\u001b[0m\n",
            "\u001b[0;32m/usr/local/lib/python3.7/dist-packages/pandas/core/nanops.py\u001b[0m in \u001b[0;36mnanmean\u001b[0;34m(values, axis, skipna, mask)\u001b[0m\n\u001b[1;32m    561\u001b[0m         \u001b[0mdtype_count\u001b[0m \u001b[0;34m=\u001b[0m \u001b[0mdtype\u001b[0m\u001b[0;34m\u001b[0m\u001b[0;34m\u001b[0m\u001b[0m\n\u001b[1;32m    562\u001b[0m     \u001b[0mcount\u001b[0m \u001b[0;34m=\u001b[0m \u001b[0m_get_counts\u001b[0m\u001b[0;34m(\u001b[0m\u001b[0mvalues\u001b[0m\u001b[0;34m.\u001b[0m\u001b[0mshape\u001b[0m\u001b[0;34m,\u001b[0m \u001b[0mmask\u001b[0m\u001b[0;34m,\u001b[0m \u001b[0maxis\u001b[0m\u001b[0;34m,\u001b[0m \u001b[0mdtype\u001b[0m\u001b[0;34m=\u001b[0m\u001b[0mdtype_count\u001b[0m\u001b[0;34m)\u001b[0m\u001b[0;34m\u001b[0m\u001b[0;34m\u001b[0m\u001b[0m\n\u001b[0;32m--> 563\u001b[0;31m     \u001b[0mthe_sum\u001b[0m \u001b[0;34m=\u001b[0m \u001b[0m_ensure_numeric\u001b[0m\u001b[0;34m(\u001b[0m\u001b[0mvalues\u001b[0m\u001b[0;34m.\u001b[0m\u001b[0msum\u001b[0m\u001b[0;34m(\u001b[0m\u001b[0maxis\u001b[0m\u001b[0;34m,\u001b[0m \u001b[0mdtype\u001b[0m\u001b[0;34m=\u001b[0m\u001b[0mdtype_sum\u001b[0m\u001b[0;34m)\u001b[0m\u001b[0;34m)\u001b[0m\u001b[0;34m\u001b[0m\u001b[0;34m\u001b[0m\u001b[0m\n\u001b[0m\u001b[1;32m    564\u001b[0m \u001b[0;34m\u001b[0m\u001b[0m\n\u001b[1;32m    565\u001b[0m     \u001b[0;32mif\u001b[0m \u001b[0maxis\u001b[0m \u001b[0;32mis\u001b[0m \u001b[0;32mnot\u001b[0m \u001b[0;32mNone\u001b[0m \u001b[0;32mand\u001b[0m \u001b[0mgetattr\u001b[0m\u001b[0;34m(\u001b[0m\u001b[0mthe_sum\u001b[0m\u001b[0;34m,\u001b[0m \u001b[0;34m\"ndim\"\u001b[0m\u001b[0;34m,\u001b[0m \u001b[0;32mFalse\u001b[0m\u001b[0;34m)\u001b[0m\u001b[0;34m:\u001b[0m\u001b[0;34m\u001b[0m\u001b[0;34m\u001b[0m\u001b[0m\n",
            "\u001b[0;32m/usr/local/lib/python3.7/dist-packages/numpy/core/_methods.py\u001b[0m in \u001b[0;36m_sum\u001b[0;34m(a, axis, dtype, out, keepdims, initial, where)\u001b[0m\n\u001b[1;32m     45\u001b[0m def _sum(a, axis=None, dtype=None, out=None, keepdims=False,\n\u001b[1;32m     46\u001b[0m          initial=_NoValue, where=True):\n\u001b[0;32m---> 47\u001b[0;31m     \u001b[0;32mreturn\u001b[0m \u001b[0mumr_sum\u001b[0m\u001b[0;34m(\u001b[0m\u001b[0ma\u001b[0m\u001b[0;34m,\u001b[0m \u001b[0maxis\u001b[0m\u001b[0;34m,\u001b[0m \u001b[0mdtype\u001b[0m\u001b[0;34m,\u001b[0m \u001b[0mout\u001b[0m\u001b[0;34m,\u001b[0m \u001b[0mkeepdims\u001b[0m\u001b[0;34m,\u001b[0m \u001b[0minitial\u001b[0m\u001b[0;34m,\u001b[0m \u001b[0mwhere\u001b[0m\u001b[0;34m)\u001b[0m\u001b[0;34m\u001b[0m\u001b[0;34m\u001b[0m\u001b[0m\n\u001b[0m\u001b[1;32m     48\u001b[0m \u001b[0;34m\u001b[0m\u001b[0m\n\u001b[1;32m     49\u001b[0m def _prod(a, axis=None, dtype=None, out=None, keepdims=False,\n",
            "\u001b[0;31mTypeError\u001b[0m: can only concatenate str (not \"int\") to str"
          ]
        }
      ]
    },
    {
      "cell_type": "code",
      "metadata": {
        "id": "qwVBlHLrb2DF"
      },
      "source": [
        "loan_data['total_loan_costs_num'] = pd.to_numeric(loan_data['total_loan_costs'], errors='coerce')"
      ],
      "execution_count": null,
      "outputs": []
    },
    {
      "cell_type": "code",
      "metadata": {
        "colab": {
          "base_uri": "https://localhost:8080/"
        },
        "id": "SH8U5JU5cJy1",
        "outputId": "ef683efe-85eb-4fac-861d-b27c89393174"
      },
      "source": [
        "loan_data['total_loan_costs_num'].mean()"
      ],
      "execution_count": null,
      "outputs": [
        {
          "output_type": "execute_result",
          "data": {
            "text/plain": [
              "5319.932977025057"
            ]
          },
          "metadata": {},
          "execution_count": 70
        }
      ]
    },
    {
      "cell_type": "code",
      "metadata": {
        "colab": {
          "base_uri": "https://localhost:8080/"
        },
        "id": "0qeIRTZTfUwy",
        "outputId": "e108be68-3e17-4041-f521-65967326ac72"
      },
      "source": [
        "loan_data['total_loan_costs_num'].describe()"
      ],
      "execution_count": null,
      "outputs": [
        {
          "output_type": "execute_result",
          "data": {
            "text/plain": [
              "count     81437.000000\n",
              "mean       5319.932977\n",
              "std        3778.456877\n",
              "min           0.000000\n",
              "25%        3020.390000\n",
              "50%        4683.000000\n",
              "75%        7144.960000\n",
              "max      320795.000000\n",
              "Name: total_loan_costs_num, dtype: float64"
            ]
          },
          "metadata": {},
          "execution_count": 42
        }
      ]
    },
    {
      "cell_type": "markdown",
      "metadata": {
        "id": "cVKSzj8Kci-0"
      },
      "source": [
        "Get the loan costs by `loan_type`"
      ]
    },
    {
      "cell_type": "code",
      "metadata": {
        "id": "GhakdxlEw6Di"
      },
      "source": [
        ""
      ],
      "execution_count": null,
      "outputs": []
    },
    {
      "cell_type": "code",
      "metadata": {
        "colab": {
          "base_uri": "https://localhost:8080/"
        },
        "id": "0wAeVuhWc4oG",
        "outputId": "947f7c4c-8180-4db1-9c25-0a5c00ab45c7"
      },
      "source": [
        "loan_data.groupby('loan_type')['total_loan_costs_num'].mean()"
      ],
      "execution_count": null,
      "outputs": [
        {
          "output_type": "execute_result",
          "data": {
            "text/plain": [
              "loan_type\n",
              "1    4481.031392\n",
              "2    7556.114720\n",
              "3    5159.691972\n",
              "4    6414.933910\n",
              "Name: total_loan_costs_num, dtype: float64"
            ]
          },
          "metadata": {},
          "execution_count": 71
        }
      ]
    },
    {
      "cell_type": "code",
      "metadata": {
        "colab": {
          "base_uri": "https://localhost:8080/",
          "height": 206
        },
        "id": "VFwhYmJSfOmP",
        "outputId": "2c3a65d6-895d-4b4c-e3aa-32e06ab9b26e"
      },
      "source": [
        "loan_data.groupby('loan_type')['total_loan_costs_num'].describe()"
      ],
      "execution_count": null,
      "outputs": [
        {
          "output_type": "execute_result",
          "data": {
            "text/html": [
              "<div>\n",
              "<style scoped>\n",
              "    .dataframe tbody tr th:only-of-type {\n",
              "        vertical-align: middle;\n",
              "    }\n",
              "\n",
              "    .dataframe tbody tr th {\n",
              "        vertical-align: top;\n",
              "    }\n",
              "\n",
              "    .dataframe thead th {\n",
              "        text-align: right;\n",
              "    }\n",
              "</style>\n",
              "<table border=\"1\" class=\"dataframe\">\n",
              "  <thead>\n",
              "    <tr style=\"text-align: right;\">\n",
              "      <th></th>\n",
              "      <th>count</th>\n",
              "      <th>mean</th>\n",
              "      <th>std</th>\n",
              "      <th>min</th>\n",
              "      <th>25%</th>\n",
              "      <th>50%</th>\n",
              "      <th>75%</th>\n",
              "      <th>max</th>\n",
              "    </tr>\n",
              "    <tr>\n",
              "      <th>loan_type</th>\n",
              "      <th></th>\n",
              "      <th></th>\n",
              "      <th></th>\n",
              "      <th></th>\n",
              "      <th></th>\n",
              "      <th></th>\n",
              "      <th></th>\n",
              "      <th></th>\n",
              "    </tr>\n",
              "  </thead>\n",
              "  <tbody>\n",
              "    <tr>\n",
              "      <th>1</th>\n",
              "      <td>40661.0</td>\n",
              "      <td>4481.031392</td>\n",
              "      <td>2896.635865</td>\n",
              "      <td>0.0</td>\n",
              "      <td>2896.4000</td>\n",
              "      <td>4185.40</td>\n",
              "      <td>5669.400</td>\n",
              "      <td>100000.00</td>\n",
              "    </tr>\n",
              "    <tr>\n",
              "      <th>2</th>\n",
              "      <td>16564.0</td>\n",
              "      <td>7556.114720</td>\n",
              "      <td>3847.603363</td>\n",
              "      <td>0.0</td>\n",
              "      <td>5694.8575</td>\n",
              "      <td>7458.21</td>\n",
              "      <td>9106.215</td>\n",
              "      <td>320795.00</td>\n",
              "    </tr>\n",
              "    <tr>\n",
              "      <th>3</th>\n",
              "      <td>23455.0</td>\n",
              "      <td>5159.691972</td>\n",
              "      <td>4427.877232</td>\n",
              "      <td>0.0</td>\n",
              "      <td>2226.6100</td>\n",
              "      <td>3950.50</td>\n",
              "      <td>7077.145</td>\n",
              "      <td>100613.68</td>\n",
              "    </tr>\n",
              "    <tr>\n",
              "      <th>4</th>\n",
              "      <td>757.0</td>\n",
              "      <td>6414.933910</td>\n",
              "      <td>2147.945009</td>\n",
              "      <td>0.0</td>\n",
              "      <td>5233.8900</td>\n",
              "      <td>6232.19</td>\n",
              "      <td>7540.520</td>\n",
              "      <td>15364.19</td>\n",
              "    </tr>\n",
              "  </tbody>\n",
              "</table>\n",
              "</div>"
            ],
            "text/plain": [
              "             count         mean          std  ...      50%       75%        max\n",
              "loan_type                                     ...                              \n",
              "1          40661.0  4481.031392  2896.635865  ...  4185.40  5669.400  100000.00\n",
              "2          16564.0  7556.114720  3847.603363  ...  7458.21  9106.215  320795.00\n",
              "3          23455.0  5159.691972  4427.877232  ...  3950.50  7077.145  100613.68\n",
              "4            757.0  6414.933910  2147.945009  ...  6232.19  7540.520   15364.19\n",
              "\n",
              "[4 rows x 8 columns]"
            ]
          },
          "metadata": {},
          "execution_count": 41
        }
      ]
    },
    {
      "cell_type": "markdown",
      "metadata": {
        "id": "sWT9uNAZfxHc"
      },
      "source": [
        "Create dummy variables or one-hot encoded variables"
      ]
    },
    {
      "cell_type": "code",
      "metadata": {
        "colab": {
          "base_uri": "https://localhost:8080/",
          "height": 206
        },
        "id": "GpEmAh2qfjp9",
        "outputId": "54d1b105-995f-4757-ea4a-4d13642b5f4a"
      },
      "source": [
        "loan_type_df = pd.get_dummies(loan_data['loan_type'], prefix = 'loan_type')\n",
        "loan_type_df.head()"
      ],
      "execution_count": null,
      "outputs": [
        {
          "output_type": "execute_result",
          "data": {
            "text/html": [
              "<div>\n",
              "<style scoped>\n",
              "    .dataframe tbody tr th:only-of-type {\n",
              "        vertical-align: middle;\n",
              "    }\n",
              "\n",
              "    .dataframe tbody tr th {\n",
              "        vertical-align: top;\n",
              "    }\n",
              "\n",
              "    .dataframe thead th {\n",
              "        text-align: right;\n",
              "    }\n",
              "</style>\n",
              "<table border=\"1\" class=\"dataframe\">\n",
              "  <thead>\n",
              "    <tr style=\"text-align: right;\">\n",
              "      <th></th>\n",
              "      <th>loan_type_1</th>\n",
              "      <th>loan_type_2</th>\n",
              "      <th>loan_type_3</th>\n",
              "      <th>loan_type_4</th>\n",
              "    </tr>\n",
              "  </thead>\n",
              "  <tbody>\n",
              "    <tr>\n",
              "      <th>0</th>\n",
              "      <td>1</td>\n",
              "      <td>0</td>\n",
              "      <td>0</td>\n",
              "      <td>0</td>\n",
              "    </tr>\n",
              "    <tr>\n",
              "      <th>1</th>\n",
              "      <td>1</td>\n",
              "      <td>0</td>\n",
              "      <td>0</td>\n",
              "      <td>0</td>\n",
              "    </tr>\n",
              "    <tr>\n",
              "      <th>2</th>\n",
              "      <td>0</td>\n",
              "      <td>0</td>\n",
              "      <td>1</td>\n",
              "      <td>0</td>\n",
              "    </tr>\n",
              "    <tr>\n",
              "      <th>3</th>\n",
              "      <td>1</td>\n",
              "      <td>0</td>\n",
              "      <td>0</td>\n",
              "      <td>0</td>\n",
              "    </tr>\n",
              "    <tr>\n",
              "      <th>4</th>\n",
              "      <td>0</td>\n",
              "      <td>1</td>\n",
              "      <td>0</td>\n",
              "      <td>0</td>\n",
              "    </tr>\n",
              "  </tbody>\n",
              "</table>\n",
              "</div>"
            ],
            "text/plain": [
              "   loan_type_1  loan_type_2  loan_type_3  loan_type_4\n",
              "0            1            0            0            0\n",
              "1            1            0            0            0\n",
              "2            0            0            1            0\n",
              "3            1            0            0            0\n",
              "4            0            1            0            0"
            ]
          },
          "metadata": {},
          "execution_count": 75
        }
      ]
    },
    {
      "cell_type": "markdown",
      "metadata": {
        "id": "EEW5zUWTg3t7"
      },
      "source": [
        "Add back the dummies to the original data frame. Here we are using `concat()` method which can join data frames by row (this is the default with `axis = 0`) and columns (`axis = 1`).\n",
        "This will just attach the data sets without a common \"key\" or \"index\"."
      ]
    },
    {
      "cell_type": "code",
      "metadata": {
        "id": "iYDeI9Rgg65t"
      },
      "source": [
        "loan_data2 = pd.concat([loan_data, loan_type_df], axis=1)"
      ],
      "execution_count": null,
      "outputs": []
    },
    {
      "cell_type": "markdown",
      "metadata": {
        "id": "_wObvDtViUSb"
      },
      "source": [
        "Joining data sets using a common key.\n",
        "\n",
        "For this, let's first create a data frame with the means of `total_loan_costs_num` for each `loan_type`.\n",
        "\n",
        "Note that in the code below, I have changed the name of the column that holds the means. This is because in the original dataframe we have the same column but with different values. We don't want to overwrite that."
      ]
    },
    {
      "cell_type": "code",
      "metadata": {
        "colab": {
          "base_uri": "https://localhost:8080/",
          "height": 206
        },
        "id": "ewFct14LiRuz",
        "outputId": "bae48021-8865-4898-d2b2-912c52f07f4c"
      },
      "source": [
        "loan_type_means = loan_data.groupby('loan_type')['total_loan_costs_num'].mean()\n",
        "loan_type_means = pd.DataFrame(loan_type_means).rename(columns = {\"total_loan_costs_num\": \"total_loan_costs_mean\"})\n",
        "loan_type_means"
      ],
      "execution_count": null,
      "outputs": [
        {
          "output_type": "execute_result",
          "data": {
            "text/html": [
              "<div>\n",
              "<style scoped>\n",
              "    .dataframe tbody tr th:only-of-type {\n",
              "        vertical-align: middle;\n",
              "    }\n",
              "\n",
              "    .dataframe tbody tr th {\n",
              "        vertical-align: top;\n",
              "    }\n",
              "\n",
              "    .dataframe thead th {\n",
              "        text-align: right;\n",
              "    }\n",
              "</style>\n",
              "<table border=\"1\" class=\"dataframe\">\n",
              "  <thead>\n",
              "    <tr style=\"text-align: right;\">\n",
              "      <th></th>\n",
              "      <th>total_loan_costs_mean</th>\n",
              "    </tr>\n",
              "    <tr>\n",
              "      <th>loan_type</th>\n",
              "      <th></th>\n",
              "    </tr>\n",
              "  </thead>\n",
              "  <tbody>\n",
              "    <tr>\n",
              "      <th>1</th>\n",
              "      <td>4481.031392</td>\n",
              "    </tr>\n",
              "    <tr>\n",
              "      <th>2</th>\n",
              "      <td>7556.114720</td>\n",
              "    </tr>\n",
              "    <tr>\n",
              "      <th>3</th>\n",
              "      <td>5159.691972</td>\n",
              "    </tr>\n",
              "    <tr>\n",
              "      <th>4</th>\n",
              "      <td>6414.933910</td>\n",
              "    </tr>\n",
              "  </tbody>\n",
              "</table>\n",
              "</div>"
            ],
            "text/plain": [
              "           total_loan_costs_mean\n",
              "loan_type                       \n",
              "1                    4481.031392\n",
              "2                    7556.114720\n",
              "3                    5159.691972\n",
              "4                    6414.933910"
            ]
          },
          "metadata": {},
          "execution_count": 50
        }
      ]
    },
    {
      "cell_type": "markdown",
      "metadata": {
        "id": "Mztf5u30kKHG"
      },
      "source": [
        "Next, we are ready to do the join. In `pandas` it is done using `merge()`method."
      ]
    },
    {
      "cell_type": "code",
      "metadata": {
        "id": "srfgfqiviSqx"
      },
      "source": [
        "loan_data3 = pd.merge(loan_data, loan_type_means, on = 'loan_type', how = 'inner')"
      ],
      "execution_count": null,
      "outputs": []
    },
    {
      "cell_type": "code",
      "metadata": {
        "colab": {
          "base_uri": "https://localhost:8080/",
          "height": 206
        },
        "id": "gORwrQgukyPa",
        "outputId": "ce5662a6-1efa-49a8-89ea-4526a69587a4"
      },
      "source": [
        "loan_data3[['loan_type', 'total_loan_costs_num', 'total_loan_costs_mean']].head()"
      ],
      "execution_count": null,
      "outputs": [
        {
          "output_type": "execute_result",
          "data": {
            "text/html": [
              "<div>\n",
              "<style scoped>\n",
              "    .dataframe tbody tr th:only-of-type {\n",
              "        vertical-align: middle;\n",
              "    }\n",
              "\n",
              "    .dataframe tbody tr th {\n",
              "        vertical-align: top;\n",
              "    }\n",
              "\n",
              "    .dataframe thead th {\n",
              "        text-align: right;\n",
              "    }\n",
              "</style>\n",
              "<table border=\"1\" class=\"dataframe\">\n",
              "  <thead>\n",
              "    <tr style=\"text-align: right;\">\n",
              "      <th></th>\n",
              "      <th>loan_type</th>\n",
              "      <th>total_loan_costs_num</th>\n",
              "      <th>total_loan_costs_mean</th>\n",
              "    </tr>\n",
              "  </thead>\n",
              "  <tbody>\n",
              "    <tr>\n",
              "      <th>0</th>\n",
              "      <td>1</td>\n",
              "      <td>6266.76</td>\n",
              "      <td>4481.031392</td>\n",
              "    </tr>\n",
              "    <tr>\n",
              "      <th>1</th>\n",
              "      <td>1</td>\n",
              "      <td>2662.70</td>\n",
              "      <td>4481.031392</td>\n",
              "    </tr>\n",
              "    <tr>\n",
              "      <th>2</th>\n",
              "      <td>1</td>\n",
              "      <td>1868.50</td>\n",
              "      <td>4481.031392</td>\n",
              "    </tr>\n",
              "    <tr>\n",
              "      <th>3</th>\n",
              "      <td>1</td>\n",
              "      <td>2537.15</td>\n",
              "      <td>4481.031392</td>\n",
              "    </tr>\n",
              "    <tr>\n",
              "      <th>4</th>\n",
              "      <td>1</td>\n",
              "      <td>8002.43</td>\n",
              "      <td>4481.031392</td>\n",
              "    </tr>\n",
              "  </tbody>\n",
              "</table>\n",
              "</div>"
            ],
            "text/plain": [
              "   loan_type  total_loan_costs_num  total_loan_costs_mean\n",
              "0          1               6266.76            4481.031392\n",
              "1          1               2662.70            4481.031392\n",
              "2          1               1868.50            4481.031392\n",
              "3          1               2537.15            4481.031392\n",
              "4          1               8002.43            4481.031392"
            ]
          },
          "metadata": {},
          "execution_count": 78
        }
      ]
    },
    {
      "cell_type": "code",
      "metadata": {
        "colab": {
          "base_uri": "https://localhost:8080/",
          "height": 206
        },
        "id": "bCqHs1CXlEMk",
        "outputId": "4245c9e6-640e-4db6-8a27-30bb29494a26"
      },
      "source": [
        "loan_data3[['loan_type', 'total_loan_costs_num', 'total_loan_costs_mean']][loan_data3['loan_type'] == 2].head()"
      ],
      "execution_count": null,
      "outputs": [
        {
          "output_type": "execute_result",
          "data": {
            "text/html": [
              "<div>\n",
              "<style scoped>\n",
              "    .dataframe tbody tr th:only-of-type {\n",
              "        vertical-align: middle;\n",
              "    }\n",
              "\n",
              "    .dataframe tbody tr th {\n",
              "        vertical-align: top;\n",
              "    }\n",
              "\n",
              "    .dataframe thead th {\n",
              "        text-align: right;\n",
              "    }\n",
              "</style>\n",
              "<table border=\"1\" class=\"dataframe\">\n",
              "  <thead>\n",
              "    <tr style=\"text-align: right;\">\n",
              "      <th></th>\n",
              "      <th>loan_type</th>\n",
              "      <th>total_loan_costs_num</th>\n",
              "      <th>total_loan_costs_mean</th>\n",
              "    </tr>\n",
              "  </thead>\n",
              "  <tbody>\n",
              "    <tr>\n",
              "      <th>114929</th>\n",
              "      <td>2</td>\n",
              "      <td>7610.72</td>\n",
              "      <td>7556.11472</td>\n",
              "    </tr>\n",
              "    <tr>\n",
              "      <th>114930</th>\n",
              "      <td>2</td>\n",
              "      <td>4740.72</td>\n",
              "      <td>7556.11472</td>\n",
              "    </tr>\n",
              "    <tr>\n",
              "      <th>114931</th>\n",
              "      <td>2</td>\n",
              "      <td>7247.97</td>\n",
              "      <td>7556.11472</td>\n",
              "    </tr>\n",
              "    <tr>\n",
              "      <th>114932</th>\n",
              "      <td>2</td>\n",
              "      <td>5578.98</td>\n",
              "      <td>7556.11472</td>\n",
              "    </tr>\n",
              "    <tr>\n",
              "      <th>114933</th>\n",
              "      <td>2</td>\n",
              "      <td>4859.05</td>\n",
              "      <td>7556.11472</td>\n",
              "    </tr>\n",
              "  </tbody>\n",
              "</table>\n",
              "</div>"
            ],
            "text/plain": [
              "        loan_type  total_loan_costs_num  total_loan_costs_mean\n",
              "114929          2               7610.72             7556.11472\n",
              "114930          2               4740.72             7556.11472\n",
              "114931          2               7247.97             7556.11472\n",
              "114932          2               5578.98             7556.11472\n",
              "114933          2               4859.05             7556.11472"
            ]
          },
          "metadata": {},
          "execution_count": 53
        }
      ]
    },
    {
      "cell_type": "markdown",
      "metadata": {
        "id": "vWP_ksb5i2RO"
      },
      "source": [
        "Read more about joins here: https://www.analyticsvidhya.com/blog/2020/02/joins-in-pandas-master-the-different-types-of-joins-in-python/"
      ]
    }
  ]
}